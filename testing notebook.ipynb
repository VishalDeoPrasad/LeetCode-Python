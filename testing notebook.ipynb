{
 "cells": [
  {
   "cell_type": "code",
   "execution_count": 7,
   "metadata": {},
   "outputs": [
    {
     "name": "stdout",
     "output_type": "stream",
     "text": [
      "4\n"
     ]
    }
   ],
   "source": [
    "str = [\"flower\",\"flow\",\"flight\"]\n",
    "min_str = min([len(s)] for s in str)[0]\n",
    "print(min_str)"
   ]
  },
  {
   "cell_type": "code",
   "execution_count": 3,
   "metadata": {},
   "outputs": [
    {
     "name": "stdout",
     "output_type": "stream",
     "text": [
      "{9, 4, 5} {8, 9, 4}\n"
     ]
    }
   ],
   "source": [
    "nums1 = [4,9,5]\n",
    "nums2 = [9,4,9,8,4]\n",
    "nums1 = set(nums1)\n",
    "nums2 = set(nums2)\n",
    "print(nums1, nums2)\n",
    "nums1&nums2"
   ]
  },
  {
   "cell_type": "code",
   "execution_count": 2,
   "metadata": {},
   "outputs": [
    {
     "data": {
      "text/plain": [
       "{4, 9}"
      ]
     },
     "execution_count": 2,
     "metadata": {},
     "output_type": "execute_result"
    }
   ],
   "source": [
    "nums1&nums2"
   ]
  },
  {
   "cell_type": "code",
   "execution_count": 16,
   "metadata": {},
   "outputs": [
    {
     "name": "stdout",
     "output_type": "stream",
     "text": [
      "\n"
     ]
    }
   ],
   "source": [
    "def commonStr(str):\n",
    "    if len(str) == 0: return \"\" \n",
    "    min_str = min([len(s)] for s in str)[0]\n",
    "    common_str = \"\"\n",
    "    for i in range(min_str):\n",
    "        temp = str[0][i]\n",
    "        for j in range(1, len(str)):\n",
    "            if str[j][i] != temp:\n",
    "                return common_str\n",
    "           \n",
    "        common_str += temp\n",
    "    return common_str\n",
    "\n",
    "str = [\"flower\",\"flow\",\"flight\"]\n",
    "print(commonStr(''))\n",
    "    "
   ]
  },
  {
   "cell_type": "code",
   "execution_count": 16,
   "metadata": {},
   "outputs": [
    {
     "name": "stdout",
     "output_type": "stream",
     "text": [
      "[1, 0]\n"
     ]
    }
   ],
   "source": [
    "\n",
    "def plusOne(digits):\n",
    "    \"\"\"\n",
    "    :type digits: List[int]\n",
    "    :rtype: List[int]\n",
    "    \"\"\"\n",
    "    if digits[-1] != 9:\n",
    "        digits[-1] = digits[-1]+1\n",
    "    else:\n",
    "        dig_2_str = \"\"\n",
    "        [dig_2_str := dig_2_str+str(d) for d in digits]\n",
    "        str_2_dig = int(dig_2_str) + 1\n",
    "        dig_2_str = str(str_2_dig)\n",
    "        str_2_dig = [int(dig_2_str[i]) for i in range(len(dig_2_str)) ]\n",
    "        return str_2_dig\n",
    "\n",
    "    return digits\n",
    "print(plusOne([9]))\n",
    "\n"
   ]
  },
  {
   "cell_type": "code",
   "execution_count": 6,
   "metadata": {},
   "outputs": [
    {
     "name": "stdout",
     "output_type": "stream",
     "text": [
      "<bound method Solution.number_reverse of <__main__.Solution object at 0x000002659215CD00>>\n",
      "0\n"
     ]
    }
   ],
   "source": [
    "class Solution(object):\n",
    "    def number_reverse(self, x):\n",
    "        rev_n = 0\n",
    "        while x > 0:\n",
    "            a = x % 10  #give last digit\n",
    "            rev_n = rev_n * 10 + a\n",
    "            x = x // 10 #remove last digit\n",
    "        return rev_n\n",
    "    \n",
    "    def isPalindrome(self, x):\n",
    "        print(self.number_reverse())\n",
    "        return 0\n",
    "        \n",
    "\n",
    "print(Solution().isPalindrome(101))\n",
    "\n"
   ]
  },
  {
   "cell_type": "code",
   "execution_count": 1,
   "metadata": {},
   "outputs": [
    {
     "data": {
      "text/plain": [
       "4"
      ]
     },
     "execution_count": 1,
     "metadata": {},
     "output_type": "execute_result"
    }
   ],
   "source": [
    "s = \"bbbaaaba\"\n",
    "t = \"aaabbbba\"\n",
    "len(set(zip(s, t)))"
   ]
  },
  {
   "cell_type": "code",
   "execution_count": 4,
   "metadata": {},
   "outputs": [
    {
     "data": {
      "text/plain": [
       "<zip at 0x1e2e0a7c740>"
      ]
     },
     "execution_count": 4,
     "metadata": {},
     "output_type": "execute_result"
    }
   ],
   "source": [
    "zip(s, t)"
   ]
  },
  {
   "cell_type": "code",
   "execution_count": 5,
   "metadata": {},
   "outputs": [
    {
     "data": {
      "text/plain": [
       "{('a', 'a'), ('a', 'b'), ('b', 'a'), ('b', 'b')}"
      ]
     },
     "execution_count": 5,
     "metadata": {},
     "output_type": "execute_result"
    }
   ],
   "source": [
    "set(zip(s, t))"
   ]
  },
  {
   "cell_type": "code",
   "execution_count": 4,
   "metadata": {},
   "outputs": [],
   "source": [
    "n = [99,99]"
   ]
  },
  {
   "cell_type": "code",
   "execution_count": 6,
   "metadata": {},
   "outputs": [
    {
     "name": "stdout",
     "output_type": "stream",
     "text": [
      "0\n"
     ]
    }
   ],
   "source": [
    "for i in range(0,len(n)-2+1):\n",
    "    print(i)"
   ]
  },
  {
   "cell_type": "code",
   "execution_count": 1,
   "metadata": {},
   "outputs": [],
   "source": [
    "nums = [9,6,4,2,3,5,7,0,1]\n",
    "n = len(nums)\n",
    "a = min(nums)\n",
    "total = n/2*((2*a)+(n-1))"
   ]
  },
  {
   "cell_type": "code",
   "execution_count": 3,
   "metadata": {},
   "outputs": [
    {
     "name": "stdout",
     "output_type": "stream",
     "text": [
      "1.0\n"
     ]
    }
   ],
   "source": [
    "nums = [0,2]\n",
    "n = len(nums)\n",
    "if n == 1 and nums[0] == 1:\n",
    "    print(0)\n",
    "elif n == 1 and nums[0] == 0:\n",
    "    print( 1)\n",
    "a = min(nums)\n",
    "l = max(nums)\n",
    "actual = (n+1)/2*(a+l)\n",
    "diff = actual-sum(nums)\n",
    "if diff:\n",
    "    print( diff)\n",
    "else:\n",
    "    print( l+1)"
   ]
  },
  {
   "cell_type": "code",
   "execution_count": 12,
   "metadata": {},
   "outputs": [],
   "source": [
    "def missingNumber(nums):\n",
    "    n = len(nums)\n",
    "    if n == 1 and nums[0] == 1:\n",
    "        return 0\n",
    "    elif n == 1 and nums[0] == 0:\n",
    "        return 1\n",
    "    elif nums[0] != 0:\n",
    "        return 0\n",
    "    a = min(nums)\n",
    "    l = max(nums)\n",
    "    actual = int((n+1)/2*(a+l))\n",
    "    diff = actual-sum(nums)\n",
    "    if diff:\n",
    "        return diff\n",
    "    else:\n",
    "        return l+1"
   ]
  },
  {
   "cell_type": "code",
   "execution_count": 13,
   "metadata": {},
   "outputs": [
    {
     "data": {
      "text/plain": [
       "0"
      ]
     },
     "execution_count": 13,
     "metadata": {},
     "output_type": "execute_result"
    }
   ],
   "source": [
    "missingNumber([1,2])"
   ]
  },
  {
   "cell_type": "code",
   "execution_count": 3,
   "metadata": {},
   "outputs": [
    {
     "ename": "TypeError",
     "evalue": "unsupported operand type(s) for -: 'list' and 'list'",
     "output_type": "error",
     "traceback": [
      "\u001b[1;31m---------------------------------------------------------------------------\u001b[0m",
      "\u001b[1;31mTypeError\u001b[0m                                 Traceback (most recent call last)",
      "Cell \u001b[1;32mIn[3], line 3\u001b[0m\n\u001b[0;32m      1\u001b[0m A \u001b[39m=\u001b[39m [\u001b[39m1\u001b[39m,\u001b[39m2\u001b[39m,\u001b[39m2\u001b[39m,\u001b[39m3\u001b[39m]\n\u001b[0;32m      2\u001b[0m B \u001b[39m=\u001b[39m [\u001b[39m1\u001b[39m,\u001b[39m2\u001b[39m,\u001b[39m2\u001b[39m,\u001b[39m1\u001b[39m]\n\u001b[1;32m----> 3\u001b[0m A\u001b[39m-\u001b[39;49mB\n",
      "\u001b[1;31mTypeError\u001b[0m: unsupported operand type(s) for -: 'list' and 'list'"
     ]
    }
   ],
   "source": [
    "A = [1,2,2,3]\n",
    "B = [1,2,2,1]\n",
    "A-B"
   ]
  },
  {
   "cell_type": "code",
   "execution_count": null,
   "metadata": {},
   "outputs": [],
   "source": []
  }
 ],
 "metadata": {
  "kernelspec": {
   "display_name": "Python 3",
   "language": "python",
   "name": "python3"
  },
  "language_info": {
   "codemirror_mode": {
    "name": "ipython",
    "version": 3
   },
   "file_extension": ".py",
   "mimetype": "text/x-python",
   "name": "python",
   "nbconvert_exporter": "python",
   "pygments_lexer": "ipython3",
   "version": "3.10.10"
  },
  "orig_nbformat": 4,
  "vscode": {
   "interpreter": {
    "hash": "f8048d823ac758c079b9f29ef30bbbc9b1138746b4add2d8fb5759ec4a242e2c"
   }
  }
 },
 "nbformat": 4,
 "nbformat_minor": 2
}
