{
 "cells": [
  {
   "cell_type": "code",
   "execution_count": 7,
   "metadata": {},
   "outputs": [
    {
     "name": "stdout",
     "output_type": "stream",
     "text": [
      "4\n"
     ]
    }
   ],
   "source": [
    "str = [\"flower\",\"flow\",\"flight\"]\n",
    "min_str = min([len(s)] for s in str)[0]\n",
    "print(min_str)"
   ]
  },
  {
   "cell_type": "code",
   "execution_count": 16,
   "metadata": {},
   "outputs": [
    {
     "name": "stdout",
     "output_type": "stream",
     "text": [
      "\n"
     ]
    }
   ],
   "source": [
    "def commonStr(str):\n",
    "    if len(str) == 0: return \"\" \n",
    "    min_str = min([len(s)] for s in str)[0]\n",
    "    common_str = \"\"\n",
    "    for i in range(min_str):\n",
    "        temp = str[0][i]\n",
    "        for j in range(1, len(str)):\n",
    "            if str[j][i] != temp:\n",
    "                return common_str\n",
    "           \n",
    "        common_str += temp\n",
    "    return common_str\n",
    "\n",
    "str = [\"flower\",\"flow\",\"flight\"]\n",
    "print(commonStr(''))\n",
    "    "
   ]
  },
  {
   "cell_type": "code",
   "execution_count": 16,
   "metadata": {},
   "outputs": [
    {
     "name": "stdout",
     "output_type": "stream",
     "text": [
      "[1, 0]\n"
     ]
    }
   ],
   "source": [
    "\n",
    "def plusOne(digits):\n",
    "    \"\"\"\n",
    "    :type digits: List[int]\n",
    "    :rtype: List[int]\n",
    "    \"\"\"\n",
    "    if digits[-1] != 9:\n",
    "        digits[-1] = digits[-1]+1\n",
    "    else:\n",
    "        dig_2_str = \"\"\n",
    "        [dig_2_str := dig_2_str+str(d) for d in digits]\n",
    "        str_2_dig = int(dig_2_str) + 1\n",
    "        dig_2_str = str(str_2_dig)\n",
    "        str_2_dig = [int(dig_2_str[i]) for i in range(len(dig_2_str)) ]\n",
    "        return str_2_dig\n",
    "\n",
    "    return digits\n",
    "print(plusOne([9]))\n",
    "\n"
   ]
  }
 ],
 "metadata": {
  "kernelspec": {
   "display_name": "Python 3",
   "language": "python",
   "name": "python3"
  },
  "language_info": {
   "codemirror_mode": {
    "name": "ipython",
    "version": 3
   },
   "file_extension": ".py",
   "mimetype": "text/x-python",
   "name": "python",
   "nbconvert_exporter": "python",
   "pygments_lexer": "ipython3",
   "version": "3.10.9"
  },
  "orig_nbformat": 4,
  "vscode": {
   "interpreter": {
    "hash": "f8048d823ac758c079b9f29ef30bbbc9b1138746b4add2d8fb5759ec4a242e2c"
   }
  }
 },
 "nbformat": 4,
 "nbformat_minor": 2
}
